{
 "cells": [
  {
   "cell_type": "code",
   "execution_count": 2,
   "id": "ea7645cb",
   "metadata": {},
   "outputs": [
    {
     "name": "stdout",
     "output_type": "stream",
     "text": [
      "Hello World Another sentence\n"
     ]
    }
   ],
   "source": [
    "print(\"Hello World\")\n",
    "print(\"Another sentence\")"
   ]
  },
  {
   "cell_type": "code",
   "execution_count": 2,
   "id": "1c8f4904",
   "metadata": {},
   "outputs": [
    {
     "name": "stdout",
     "output_type": "stream",
     "text": [
      "2.6\n"
     ]
    }
   ],
   "source": [
    "a = 2.6\n",
    "print(a)"
   ]
  },
  {
   "cell_type": "code",
   "execution_count": 3,
   "id": "b780a27b",
   "metadata": {},
   "outputs": [
    {
     "name": "stdout",
     "output_type": "stream",
     "text": [
      "2.6\n"
     ]
    }
   ],
   "source": [
    "print(a)"
   ]
  },
  {
   "cell_type": "code",
   "execution_count": 4,
   "id": "bacc30c1",
   "metadata": {},
   "outputs": [
    {
     "data": {
      "text/plain": [
       "float"
      ]
     },
     "execution_count": 4,
     "metadata": {},
     "output_type": "execute_result"
    }
   ],
   "source": [
    "type(a)"
   ]
  },
  {
   "cell_type": "code",
   "execution_count": 3,
   "id": "63e3c650",
   "metadata": {},
   "outputs": [
    {
     "name": "stdout",
     "output_type": "stream",
     "text": [
      "<class 'int'>\n"
     ]
    }
   ],
   "source": [
    "a = 122344555\n",
    "print(type(a))"
   ]
  },
  {
   "cell_type": "code",
   "execution_count": 12,
   "id": "d2c86cbd",
   "metadata": {},
   "outputs": [
    {
     "name": "stdout",
     "output_type": "stream",
     "text": [
      "35000.0\n",
      "120000.0\n",
      "<class 'float'>\n",
      "<class 'float'>\n"
     ]
    }
   ],
   "source": [
    "#\"e\" to indicate the power of 10\n",
    "x=35e3\n",
    "y=12E4\n",
    "print(x)\n",
    "print(y)\n",
    "print(type(x))\n",
    "print(type(y))"
   ]
  },
  {
   "cell_type": "code",
   "execution_count": 14,
   "id": "edc31b48",
   "metadata": {},
   "outputs": [
    {
     "name": "stdout",
     "output_type": "stream",
     "text": [
      "1j\n",
      "<class 'complex'>\n",
      "(3+5j)\n",
      "<class 'complex'>\n"
     ]
    }
   ],
   "source": [
    "x=1j\n",
    "print(x)\n",
    "print(type(x))\n",
    "y=3+5j\n",
    "print(y)\n",
    "print(type(y))"
   ]
  },
  {
   "cell_type": "code",
   "execution_count": 10,
   "id": "02913756",
   "metadata": {},
   "outputs": [
    {
     "name": "stdout",
     "output_type": "stream",
     "text": [
      "b'Hello'\n",
      "<class 'bytes'>\n",
      "bytearray(b'\\x00\\x00\\x00\\x00\\x00')\n",
      "<class 'bytearray'>\n",
      "<memory at 0x7f13b0cff348>\n",
      "<class 'memoryview'>\n"
     ]
    }
   ],
   "source": [
    "x=b\"Hello\"\n",
    "print(x)\n",
    "print(type(x))\n",
    "\n",
    "x=bytearray(5)\n",
    "print(x)\n",
    "print(type(x))\n",
    "\n",
    "x=memoryview(bytes(5))\n",
    "print(x)\n",
    "print(type(x))"
   ]
  },
  {
   "cell_type": "code",
   "execution_count": 13,
   "id": "89681be9",
   "metadata": {},
   "outputs": [
    {
     "name": "stdout",
     "output_type": "stream",
     "text": [
      "0 S\n",
      "1 o\n",
      "2 u\n",
      "3 r\n",
      "4 o\n",
      "ur\n",
      "Souro1\n"
     ]
    }
   ],
   "source": [
    "a = 'Souro'\n",
    "type(a)\n",
    "#print(a[1])\n",
    "for index, char in enumerate(a):\n",
    "    print(index, char)\n",
    "print(a[2:4])\n",
    "a = 'Souro1'\n",
    "print(a)"
   ]
  },
  {
   "cell_type": "code",
   "execution_count": 17,
   "id": "83fe002e",
   "metadata": {},
   "outputs": [
    {
     "name": "stdout",
     "output_type": "stream",
     "text": [
      "Enter Something: 2.5\n",
      "2.5\n",
      "<class 'str'>\n",
      "2.5\n"
     ]
    },
    {
     "data": {
      "text/plain": [
       "float"
      ]
     },
     "execution_count": 17,
     "metadata": {},
     "output_type": "execute_result"
    }
   ],
   "source": [
    "a = input(\"Enter Something: \")\n",
    "print(a)\n",
    "print(type(a))\n",
    "a=float(a)\n",
    "print(a)\n",
    "type(a)"
   ]
  },
  {
   "cell_type": "code",
   "execution_count": null,
   "id": "2f49d6ff",
   "metadata": {},
   "outputs": [],
   "source": [
    "string1 = str(\"Mindmajix AI ML Training\")\n",
    "print(string1[3])"
   ]
  },
  {
   "cell_type": "code",
   "execution_count": 18,
   "id": "e4a3e20e",
   "metadata": {},
   "outputs": [
    {
     "name": "stdout",
     "output_type": "stream",
     "text": [
      "<class 'int'>\n",
      "<class 'str'>\n"
     ]
    }
   ],
   "source": [
    "num_string = 1\n",
    "print(type(num_string))\n",
    "string = str(num_string)\n",
    "print(type(string))"
   ]
  },
  {
   "cell_type": "code",
   "execution_count": 30,
   "id": "0841cb38",
   "metadata": {},
   "outputs": [
    {
     "name": "stdout",
     "output_type": "stream",
     "text": [
      "[1, 5, 9, 4, [7, 8, 9], 3.5, 'string1']\n",
      "[1, 5, 'Souro', 9, 4, [7, 8, 9], 3.5, 'string1', 5]\n",
      "[1, 5, 9, 4, [7, 8, 9], 3.5, 'string1', 5]\n",
      "8\n",
      "8\n"
     ]
    }
   ],
   "source": [
    "list_example = [1,5,9,4,[7,8,9],3.5,'string1']\n",
    "print(list_example)\n",
    "list_example.insert(2,\"Souro\")\n",
    "list_example.append(5)\n",
    "print(list_example)\n",
    "list_example.remove('Souro')\n",
    "print(list_example)\n",
    "print(len(list_example))\n",
    "\n",
    "print(list_example[4][1])\n",
    "# for ele in list_example:\n",
    "#     print(ele)"
   ]
  },
  {
   "cell_type": "code",
   "execution_count": null,
   "id": "3bad77a3",
   "metadata": {},
   "outputs": [],
   "source": [
    "string_example = \"This is a string\"\n",
    "print(string_example)\n",
    "strtolist = list(string_example)\n",
    "print(strtolist)"
   ]
  },
  {
   "cell_type": "code",
   "execution_count": 33,
   "id": "16909a6c",
   "metadata": {},
   "outputs": [
    {
     "name": "stdout",
     "output_type": "stream",
     "text": [
      "(1, 2, 3, 4)\n",
      "<class 'tuple'>\n",
      "1\n"
     ]
    },
    {
     "ename": "TypeError",
     "evalue": "'tuple' object does not support item assignment",
     "output_type": "error",
     "traceback": [
      "\u001b[0;31m---------------------------------------------------------------------------\u001b[0m",
      "\u001b[0;31mTypeError\u001b[0m                                 Traceback (most recent call last)",
      "\u001b[0;32m<ipython-input-33-f57922a1357f>\u001b[0m in \u001b[0;36m<module>\u001b[0;34m\u001b[0m\n\u001b[1;32m      4\u001b[0m \u001b[0;34m\u001b[0m\u001b[0m\n\u001b[1;32m      5\u001b[0m \u001b[0mprint\u001b[0m\u001b[0;34m(\u001b[0m\u001b[0mtuple1\u001b[0m\u001b[0;34m[\u001b[0m\u001b[0;36m0\u001b[0m\u001b[0;34m]\u001b[0m\u001b[0;34m)\u001b[0m\u001b[0;34m\u001b[0m\u001b[0;34m\u001b[0m\u001b[0m\n\u001b[0;32m----> 6\u001b[0;31m \u001b[0mtuple1\u001b[0m\u001b[0;34m[\u001b[0m\u001b[0;36m0\u001b[0m\u001b[0;34m]\u001b[0m \u001b[0;34m=\u001b[0m \u001b[0;36m3\u001b[0m\u001b[0;34m\u001b[0m\u001b[0;34m\u001b[0m\u001b[0m\n\u001b[0m",
      "\u001b[0;31mTypeError\u001b[0m: 'tuple' object does not support item assignment"
     ]
    }
   ],
   "source": [
    "tuple1 = (1,2,3,4)\n",
    "print(tuple1)\n",
    "print(type(tuple1))\n",
    "\n",
    "print(tuple1[0])\n",
    "tuple1[0] = 3"
   ]
  },
  {
   "cell_type": "code",
   "execution_count": 35,
   "id": "cffa018e",
   "metadata": {},
   "outputs": [
    {
     "name": "stdout",
     "output_type": "stream",
     "text": [
      "{1, 2, 3, 4}\n",
      "[1, 2, 3, 3, 4, 4]\n",
      "{1, 2, 3, 4}\n"
     ]
    }
   ],
   "source": [
    "set1 = {1,2,3, 3, 4, 4}\n",
    "print(set1)\n",
    "type(set1)\n",
    "list1 = [1,2,3,3,4,4]\n",
    "print(list1)\n",
    "print(set(list1))"
   ]
  },
  {
   "cell_type": "code",
   "execution_count": 42,
   "id": "92fd8f7b",
   "metadata": {},
   "outputs": [
    {
     "name": "stdout",
     "output_type": "stream",
     "text": [
      "1 Souro\n",
      "t Sourot\n",
      "3 mind majix\n",
      "dict_items([(1, 'Souro'), ('t', 'Sourot'), (3, 'mind majix')])\n",
      "Sourot\n"
     ]
    }
   ],
   "source": [
    "dict_example = {1:\"Souro\", 't':\"Sourot\", 3:\"mind majix\"}\n",
    "for key,value in dict_example.items():\n",
    "    print(key, value)\n",
    "print(dict_example.items())\n",
    "print(dict_example['t'])"
   ]
  },
  {
   "cell_type": "code",
   "execution_count": 48,
   "id": "74eb916b",
   "metadata": {},
   "outputs": [
    {
     "name": "stdout",
     "output_type": "stream",
     "text": [
      "False\n"
     ]
    }
   ],
   "source": [
    "a = 10\n",
    "b = 4\n",
    "print(a == b)"
   ]
  },
  {
   "cell_type": "code",
   "execution_count": 49,
   "id": "502f2db0",
   "metadata": {},
   "outputs": [
    {
     "name": "stdout",
     "output_type": "stream",
     "text": [
      "0\n",
      "1\n",
      "2\n",
      "3\n",
      "4\n"
     ]
    }
   ],
   "source": [
    "# list1 = [15,29,34,43]\n",
    "# for i in range(1,3):\n",
    "#     print(list1[i])\n",
    "\n",
    "for i in range(5):\n",
    "    print(i)\n"
   ]
  },
  {
   "cell_type": "code",
   "execution_count": 50,
   "id": "ba808200",
   "metadata": {},
   "outputs": [
    {
     "name": "stdout",
     "output_type": "stream",
     "text": [
      "a is not equal to b\n"
     ]
    }
   ],
   "source": [
    "a = 4\n",
    "b = 5\n",
    "if (a > b):\n",
    "    print(\" a is greater than b\")\n",
    "elif (a != b):\n",
    "    print(\"a is not equal to b\")\n",
    "else:\n",
    "    print(\"a is equal to b\")"
   ]
  },
  {
   "cell_type": "code",
   "execution_count": 9,
   "id": "d8f6c154",
   "metadata": {},
   "outputs": [
    {
     "name": "stdout",
     "output_type": "stream",
     "text": [
      "global6\n",
      "\n",
      "\n",
      "outer6\n",
      "11\n",
      "\n",
      "\n",
      "inner11\n",
      "9\n",
      "\n",
      "\n",
      "9\n",
      "11\n",
      "11\n",
      "6\n"
     ]
    }
   ],
   "source": [
    "def outer(a):\n",
    "    print(\"outer\"+str(a))\n",
    "    a = 11\n",
    "    print(a)\n",
    "    print('\\n')\n",
    "    def inner(a):\n",
    "        print(\"inner\" + str(a))\n",
    "        a=9\n",
    "        print(a)\n",
    "        return a\n",
    "    res = inner(a)\n",
    "    print('\\n')\n",
    "    print(res)\n",
    "    print(a)\n",
    "    return a\n",
    "a = 6\n",
    "print(\"global\"+str(a))\n",
    "print('\\n')\n",
    "res = outer(a)\n",
    "print(res)\n",
    "print(a)"
   ]
  },
  {
   "cell_type": "code",
   "execution_count": 19,
   "id": "4f771dc9",
   "metadata": {},
   "outputs": [
    {
     "name": "stdout",
     "output_type": "stream",
     "text": [
      "AI-ML\n"
     ]
    }
   ],
   "source": [
    "class Training:\n",
    "    course = None\n",
    "    def __init__(self, course):\n",
    "        self.course = course\n",
    "    def show(self):\n",
    "        print(self.course)\n",
    "        \n",
    "AI = Training(\"AI-ML\")\n",
    "AI.show()\n"
   ]
  },
  {
   "cell_type": "code",
   "execution_count": 28,
   "id": "3be18800",
   "metadata": {},
   "outputs": [
    {
     "name": "stdout",
     "output_type": "stream",
     "text": [
      "Zero Division Error Occured\n",
      "Remining part of my task\n"
     ]
    }
   ],
   "source": [
    "a = [1,2,3]\n",
    "b = 3\n",
    "c = 0\n",
    "try:\n",
    "    #print(a[5])\n",
    "    print(b/c)\n",
    "except IndexError:\n",
    "    print(\"Index out of range Error Occured\")\n",
    "except ZeroDivisionError:\n",
    "    print(\"Zero Division Error Occured\")\n",
    "print(\"Remining part of my task\")"
   ]
  },
  {
   "cell_type": "code",
   "execution_count": 35,
   "id": "9c069efa",
   "metadata": {},
   "outputs": [
    {
     "name": "stdout",
     "output_type": "stream",
     "text": [
      "Counter({'B': 5, 'A': 3, 'C': 2})\n"
     ]
    }
   ],
   "source": [
    "from collections import Counter\n",
    "print(Counter(['B', 'B', 'A', 'B', 'C', 'A', 'B', 'B', 'A', 'C']))"
   ]
  },
  {
   "cell_type": "code",
   "execution_count": 13,
   "id": "0a184e3c",
   "metadata": {},
   "outputs": [
    {
     "name": "stdout",
     "output_type": "stream",
     "text": [
      "<class 'array.array'>\n",
      "The new created array is :  1 2 3 \n",
      "The new created array is :  2.5 3.2 3.3 "
     ]
    }
   ],
   "source": [
    "import array as arr\n",
    " \n",
    "# creating an array with integer type\n",
    "a = arr.array('i', [1, 2, 3])\n",
    "print(type(a))\n",
    " \n",
    "# printing original array\n",
    "print (\"The new created array is : \", end =\" \")\n",
    "for i in range (0, 3):\n",
    "    print (a[i], end =\" \")\n",
    "print()\n",
    " \n",
    "# creating an array with float type\n",
    "b = arr.array('d', [2.5, 3.2, 3.3])\n",
    " \n",
    "# printing original array\n",
    "print (\"The new created array is : \", end =\" \")\n",
    "for i in range (0, 3):\n",
    "    print (b[i], end =\" \")"
   ]
  },
  {
   "cell_type": "code",
   "execution_count": 11,
   "id": "60baff4d",
   "metadata": {},
   "outputs": [
    {
     "name": "stdout",
     "output_type": "stream",
     "text": [
      "[4, 5, 6, 7]\n"
     ]
    }
   ],
   "source": [
    "list1 = [3,4,5,6,7]\n",
    "print(list1[1:])"
   ]
  },
  {
   "cell_type": "code",
   "execution_count": 1,
   "id": "beb681da",
   "metadata": {},
   "outputs": [
    {
     "name": "stdout",
     "output_type": "stream",
     "text": [
      "Demo Text File\n",
      "Demo\n",
      "Text\n",
      "File\n",
      "Another Demo text file\n",
      "Another\n",
      "Demo\n",
      "text\n",
      "file\n",
      "\n"
     ]
    }
   ],
   "source": [
    "with open(\"demo_text_file.txt\", \"r\") as fread:\n",
    "    lines = fread.read()\n",
    "    lines_split = lines.split('\\n')\n",
    "    #print(lines)\n",
    "    #print(type(lines))\n",
    "    for line in lines_split:\n",
    "        print(line)\n",
    "        line_split = line.split()\n",
    "        for l in line_split:\n",
    "            print(l)"
   ]
  },
  {
   "cell_type": "code",
   "execution_count": 14,
   "id": "09c83f8e",
   "metadata": {},
   "outputs": [
    {
     "name": "stdout",
     "output_type": "stream",
     "text": [
      "demo_text_file3.txt\n",
      "Demo Text File\n",
      "Another Demo text file\n",
      "\n",
      "demo_text_file.txt\n",
      "Demo Text File\n",
      "Another Demo text file\n",
      "\n",
      "demo_text_file2.txt\n",
      "Demo Text File\n",
      "Another Demo text file\n",
      "\n"
     ]
    }
   ],
   "source": [
    "import os\n",
    "for r,d,files in os.walk(\"demo_dir\"):\n",
    "    #print(r,d,files)\n",
    "    for file in files:\n",
    "        print(file)\n",
    "        with open(r+'/'+file, \"r\") as fread:\n",
    "            lines = fread.read()\n",
    "            print(lines)"
   ]
  },
  {
   "cell_type": "code",
   "execution_count": 3,
   "id": "0bdb0c09",
   "metadata": {},
   "outputs": [
    {
     "name": "stdout",
     "output_type": "stream",
     "text": [
      "['apple', 'banana', 'mango']\n",
      "['apple', 'banana', 'mango']\n"
     ]
    }
   ],
   "source": [
    "# list comprehension\n",
    "fruits = [\"apple\", \"banana\", \"cherry\", \"kiwi\", \"mango\"]\n",
    "newlist = []\n",
    "\n",
    "for x in fruits:\n",
    "  if \"a\" in x:\n",
    "    newlist.append(x)\n",
    "\n",
    "print(newlist)\n",
    "\n",
    "fruits = [\"apple\", \"banana\", \"cherry\", \"kiwi\", \"mango\"]\n",
    "\n",
    "newlist = [x for x in fruits if \"a\" in x]\n",
    "\n",
    "print(newlist)"
   ]
  },
  {
   "cell_type": "code",
   "execution_count": 4,
   "id": "44e5a50a",
   "metadata": {},
   "outputs": [
    {
     "name": "stdout",
     "output_type": "stream",
     "text": [
      "{'hello': 3, 'hi': 1, 'today': 1, 'morning': 1, 'again': 1}\n"
     ]
    }
   ],
   "source": [
    "#dictionary comprehension\n",
    "my_list = ['hello', 'hi', 'hello', 'today', 'morning', 'again', 'hello']\n",
    "my_dict = {k:my_list.count(k) for k in my_list}\n",
    "print(my_dict)"
   ]
  },
  {
   "cell_type": "code",
   "execution_count": null,
   "id": "7b7e405d",
   "metadata": {},
   "outputs": [],
   "source": []
  }
 ],
 "metadata": {
  "kernelspec": {
   "display_name": "Python 3",
   "language": "python",
   "name": "python3"
  },
  "language_info": {
   "codemirror_mode": {
    "name": "ipython",
    "version": 3
   },
   "file_extension": ".py",
   "mimetype": "text/x-python",
   "name": "python",
   "nbconvert_exporter": "python",
   "pygments_lexer": "ipython3",
   "version": "3.6.9"
  }
 },
 "nbformat": 4,
 "nbformat_minor": 5
}
