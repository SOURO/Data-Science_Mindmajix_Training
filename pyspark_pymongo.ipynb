{
 "cells": [
  {
   "cell_type": "markdown",
   "id": "87744cef",
   "metadata": {},
   "source": [
    "# pyspark"
   ]
  },
  {
   "cell_type": "code",
   "execution_count": null,
   "id": "3f05252c",
   "metadata": {},
   "outputs": [],
   "source": [
    "import pyspark\n",
    "from pyspark import SparkContext\n",
    "sc =SparkContext()"
   ]
  },
  {
   "cell_type": "code",
   "execution_count": null,
   "id": "ea9c61a3",
   "metadata": {},
   "outputs": [],
   "source": [
    "nums = sc.parallelize([1,2,3,4])"
   ]
  },
  {
   "cell_type": "code",
   "execution_count": null,
   "id": "7a0a1d87",
   "metadata": {},
   "outputs": [],
   "source": [
    "nums.take(1)"
   ]
  },
  {
   "cell_type": "code",
   "execution_count": null,
   "id": "28a9bea4",
   "metadata": {},
   "outputs": [],
   "source": [
    "squared = nums.map(lambda x: x*x).collect()\n",
    "for num in squared:\n",
    "    print('%i ' % (num))"
   ]
  },
  {
   "cell_type": "code",
   "execution_count": null,
   "id": "e541b567",
   "metadata": {},
   "outputs": [],
   "source": [
    "from pyspark.sql import Row\n",
    "from pyspark.sql import SQLContext\n",
    "\n",
    "sqlContext = SQLContext(sc)"
   ]
  },
  {
   "cell_type": "code",
   "execution_count": null,
   "id": "86f74814",
   "metadata": {},
   "outputs": [],
   "source": [
    "list_p = [('John',19),('Smith',29),('Adam',35),('Henry',50)]\n",
    "rdd = sc.parallelize(list_p)\n",
    "ppl = rdd.map(lambda x: Row(name=x[0], age=int(x[1])))"
   ]
  },
  {
   "cell_type": "code",
   "execution_count": null,
   "id": "f708926f",
   "metadata": {},
   "outputs": [],
   "source": [
    "DF_ppl = sqlContext.createDataFrame(ppl)\n",
    "DF_ppl.printSchema()\n",
    "DF_ppl.show()"
   ]
  },
  {
   "cell_type": "code",
   "execution_count": null,
   "id": "fac3f1a0",
   "metadata": {},
   "outputs": [],
   "source": [
    "from pyspark import SparkFiles\n",
    "df = sqlContext.read.csv(SparkFiles.get(\"/home/souro/AI-ML-Training_Mindmajix/adult_data.csv\"), header=True, inferSchema= True)"
   ]
  },
  {
   "cell_type": "code",
   "execution_count": null,
   "id": "accd9c04",
   "metadata": {},
   "outputs": [],
   "source": [
    "df.printSchema()"
   ]
  },
  {
   "cell_type": "code",
   "execution_count": null,
   "id": "54d2c320",
   "metadata": {},
   "outputs": [],
   "source": [
    "df.show(5, truncate = False)"
   ]
  },
  {
   "cell_type": "code",
   "execution_count": null,
   "id": "fd00862e",
   "metadata": {},
   "outputs": [],
   "source": [
    "from pyspark.sql.types import *\n",
    "\n",
    "# Write a custom function to convert the data type of DataFrame columns\n",
    "def convertColumn(df, names, newType):\n",
    "    for name in names: \n",
    "        df = df.withColumn(name, df[name].cast(newType))\n",
    "    return df \n",
    "# List of continuous features\n",
    "CONTI_FEATURES  = ['age', 'fnlwgt','capital-gain', 'educational-num', 'capital-loss', 'hours-per-week']\n",
    "# Convert the type\n",
    "df = convertColumn(df, CONTI_FEATURES, FloatType())\n",
    "# Check the dataset\n",
    "df.printSchema()"
   ]
  },
  {
   "cell_type": "code",
   "execution_count": null,
   "id": "68d6a2b9",
   "metadata": {},
   "outputs": [],
   "source": [
    "df.select('age','fnlwgt').show(5)"
   ]
  },
  {
   "cell_type": "code",
   "execution_count": null,
   "id": "c19a3906",
   "metadata": {},
   "outputs": [],
   "source": [
    "df.groupBy(\"education\").count().sort(\"count\",ascending=True).show()"
   ]
  },
  {
   "cell_type": "code",
   "execution_count": null,
   "id": "d0764409",
   "metadata": {},
   "outputs": [],
   "source": [
    "df.describe().show()"
   ]
  },
  {
   "cell_type": "code",
   "execution_count": null,
   "id": "69506b58",
   "metadata": {},
   "outputs": [],
   "source": [
    "df.describe('capital-gain').show()"
   ]
  },
  {
   "cell_type": "code",
   "execution_count": null,
   "id": "1f95c4b8",
   "metadata": {},
   "outputs": [],
   "source": [
    "df.filter(df.age > 40).count()"
   ]
  },
  {
   "cell_type": "markdown",
   "id": "47c0223e",
   "metadata": {},
   "source": [
    "# pymongo"
   ]
  },
  {
   "cell_type": "code",
   "execution_count": 18,
   "id": "786545b1",
   "metadata": {},
   "outputs": [
    {
     "name": "stdout",
     "output_type": "stream",
     "text": [
      "Database created........\n",
      "List of databases after creating new one\n",
      "['admin', 'config', 'local', 'test']\n"
     ]
    }
   ],
   "source": [
    "from pymongo import MongoClient\n",
    "\n",
    "#Creating a pymongo client\n",
    "client = MongoClient('localhost', 27017)\n",
    "\n",
    "#Getting the database instance\n",
    "db = client['mydb']\n",
    "print(\"Database created........\")\n",
    "\n",
    "#Verification\n",
    "print(\"List of databases after creating new one\")\n",
    "print(client.list_database_names())"
   ]
  },
  {
   "cell_type": "code",
   "execution_count": null,
   "id": "60f0dd2b",
   "metadata": {},
   "outputs": [],
   "source": [
    "from pymongo import MongoClient\n",
    "\n",
    "#Creating a pymongo client\n",
    "client = MongoClient('localhost', 27017)\n",
    "\n",
    "#Getting the database instance\n",
    "db = client['mydb']\n",
    "\n",
    "#Creating a collection\n",
    "collection = db['souro_collection']\n",
    "print(\"Collection created........\")"
   ]
  },
  {
   "cell_type": "code",
   "execution_count": null,
   "id": "78459f4b",
   "metadata": {},
   "outputs": [],
   "source": [
    "from pymongo import MongoClient\n",
    "\n",
    "#Creating a pymongo client\n",
    "client = MongoClient(\"mongodb://localhost:27017/\")\n",
    "\n",
    "#Getting the database instance\n",
    "db = client['mydb']\n",
    "\n",
    "#Creating a collection\n",
    "coll = db['souro_collection']\n",
    "\n",
    "#Inserting document into a collection\n",
    "doc1 = {\"name\": \"Souro\", \"id\": \"5\", \"city\": \"Prague\"}\n",
    "coll.insert_one(doc1)\n",
    "print(coll.find_one())"
   ]
  },
  {
   "cell_type": "code",
   "execution_count": null,
   "id": "a1bc4878",
   "metadata": {},
   "outputs": [],
   "source": [
    "from pymongo import MongoClient\n",
    "\n",
    "#Creating a pymongo client\n",
    "client = MongoClient('localhost', 27017)\n",
    "\n",
    "#Getting the database instance\n",
    "db = client['mydb']\n",
    "\n",
    "#Creating a collection\n",
    "coll = db['souro_collection']\n",
    "\n",
    "#Inserting document into a collection\n",
    "data = [\n",
    "   {\n",
    "      \"_id\": \"101\", \n",
    "      \"name\": \"Souro1\", \n",
    "      \"id\": \"1\", \n",
    "      \"city\": \"Prague1\"\n",
    "   },\n",
    "   {\n",
    "      \"_id\": \"102\", \n",
    "      \"name\": \"Souro2\", \n",
    "      \"id\": \"2\", \n",
    "      \"city\": \"Prague2\"\n",
    "   },\n",
    "   {\n",
    "      \"_id\": \"103\", \n",
    "      \"name\": \"Souro3\", \n",
    "      \"id\": \"3\", \n",
    "      \"city\": \"Prague3\"\n",
    "   }\n",
    "]\n",
    "res = coll.insert_many(data)\n",
    "print(\"Data inserted ......\")\n",
    "print(res.inserted_ids)"
   ]
  },
  {
   "cell_type": "code",
   "execution_count": null,
   "id": "6774038a",
   "metadata": {},
   "outputs": [],
   "source": [
    "#Retrieving the first record using the find_one() method\n",
    "print(\"First record of the collection: \")\n",
    "print(coll.find_one())\n",
    "\n",
    "#Retrieving a record with is 103 using the find_one() method\n",
    "print(\"Record whose id is 103: \")\n",
    "print(coll.find_one({\"_id\": \"103\"}))"
   ]
  },
  {
   "cell_type": "code",
   "execution_count": null,
   "id": "136789b6",
   "metadata": {},
   "outputs": [],
   "source": [
    "#Retrieving all the records using the find() method\n",
    "print(\"Records of the collection: \")\n",
    "for doc1 in coll.find():\n",
    "    print(doc1)"
   ]
  },
  {
   "cell_type": "code",
   "execution_count": null,
   "id": "791d592a",
   "metadata": {},
   "outputs": [],
   "source": [
    "for doc1 in coll.find().sort(\"city\"):\n",
    "   print(doc1)"
   ]
  },
  {
   "cell_type": "code",
   "execution_count": null,
   "id": "e7c1598b",
   "metadata": {},
   "outputs": [],
   "source": [
    "coll.delete_one({\"id\" : \"2\"})"
   ]
  },
  {
   "cell_type": "code",
   "execution_count": null,
   "id": "b6c9caa1",
   "metadata": {},
   "outputs": [],
   "source": [
    "collections = db.list_collection_names()\n",
    "for coll in collections:\n",
    "   print(coll)\n"
   ]
  },
  {
   "cell_type": "code",
   "execution_count": null,
   "id": "a95cd608",
   "metadata": {},
   "outputs": [],
   "source": [
    "db.drop_collection(coll)"
   ]
  },
  {
   "cell_type": "code",
   "execution_count": null,
   "id": "a45ca116",
   "metadata": {},
   "outputs": [],
   "source": []
  }
 ],
 "metadata": {
  "kernelspec": {
   "display_name": "Python 3",
   "language": "python",
   "name": "python3"
  },
  "language_info": {
   "codemirror_mode": {
    "name": "ipython",
    "version": 3
   },
   "file_extension": ".py",
   "mimetype": "text/x-python",
   "name": "python",
   "nbconvert_exporter": "python",
   "pygments_lexer": "ipython3",
   "version": "3.6.9"
  }
 },
 "nbformat": 4,
 "nbformat_minor": 5
}
