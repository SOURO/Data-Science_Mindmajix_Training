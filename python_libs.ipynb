{
 "cells": [
  {
   "cell_type": "markdown",
   "id": "da4a8b50",
   "metadata": {},
   "source": [
    "# nltk"
   ]
  },
  {
   "cell_type": "code",
   "execution_count": 18,
   "id": "e2153b73",
   "metadata": {
    "scrolled": true
   },
   "outputs": [
    {
     "name": "stdout",
     "output_type": "stream",
     "text": [
      "1\n",
      "1. python has built in functions : print() ...\n",
      "2. python ... some libaries ... are from official python dis ... included in py packg ... but it never loads ... import libname ... random ... collections \n",
      "3. libaries ... not from py official distri ... 3rd parties  ... install those lib ... import ... then you can use ... ML / DS / Math ... NLTK ... Numpy ... Panda ...\n",
      "1.\n",
      "python\n",
      "has\n",
      "built\n",
      "in\n",
      "functions\n",
      ":\n",
      "print\n",
      "(\n",
      ")\n",
      "...\n",
      "2.\n",
      "python\n",
      "...\n",
      "some\n",
      "libaries\n",
      "...\n",
      "are\n",
      "from\n",
      "official\n",
      "python\n",
      "dis\n",
      "...\n",
      "included\n",
      "in\n",
      "py\n",
      "packg\n",
      "...\n",
      "but\n",
      "it\n",
      "never\n",
      "loads\n",
      "...\n",
      "import\n",
      "libname\n",
      "...\n",
      "random\n",
      "...\n",
      "collections\n",
      "3.\n",
      "libaries\n",
      "...\n",
      "not\n",
      "from\n",
      "py\n",
      "official\n",
      "distri\n",
      "...\n",
      "3rd\n",
      "parties\n",
      "...\n",
      "install\n",
      "those\n",
      "lib\n",
      "...\n",
      "import\n",
      "...\n",
      "then\n",
      "you\n",
      "can\n",
      "use\n",
      "...\n",
      "ML\n",
      "/\n",
      "DS\n",
      "/\n",
      "Math\n",
      "...\n",
      "NLTK\n",
      "...\n",
      "Numpy\n",
      "...\n",
      "Panda\n",
      "...\n"
     ]
    }
   ],
   "source": [
    "import nltk\n",
    "with open(\"demo_text_file.txt\", \"r\") as fread:\n",
    "    text = fread.read()\n",
    "    sentences = nltk.sent_tokenize(text)\n",
    "    print(len(sentences))\n",
    "    #print(type(lines))\n",
    "    for sentence in sentences:\n",
    "        print(sentence)\n",
    "        words = nltk.word_tokenize(sentence)\n",
    "        for word in words:\n",
    "            print(word)"
   ]
  },
  {
   "cell_type": "code",
   "execution_count": 1,
   "id": "eba336dd",
   "metadata": {},
   "outputs": [
    {
     "name": "stdout",
     "output_type": "stream",
     "text": [
      "[Synset('love.n.01'), Synset('love.n.02'), Synset('beloved.n.01'), Synset('love.n.04'), Synset('love.n.05'), Synset('sexual_love.n.02'), Synset('love.v.01'), Synset('love.v.02'), Synset('love.v.03'), Synset('sleep_together.v.01')]\n"
     ]
    }
   ],
   "source": [
    "from nltk.corpus import wordnet\n",
    "syn=wordnet.synsets('love')\n",
    "print(syn)"
   ]
  },
  {
   "cell_type": "code",
   "execution_count": 2,
   "id": "a53f4bd9",
   "metadata": {},
   "outputs": [
    {
     "data": {
      "text/plain": [
       "'a strong positive emotion of regard and affection'"
      ]
     },
     "execution_count": 2,
     "metadata": {},
     "output_type": "execute_result"
    }
   ],
   "source": [
    "syn[0].definition()"
   ]
  },
  {
   "cell_type": "code",
   "execution_count": 3,
   "id": "4f946717",
   "metadata": {},
   "outputs": [
    {
     "data": {
      "text/plain": [
       "['his love for his work', 'children need a lot of love']"
      ]
     },
     "execution_count": 3,
     "metadata": {},
     "output_type": "execute_result"
    }
   ],
   "source": [
    "syn[0].examples()"
   ]
  },
  {
   "cell_type": "code",
   "execution_count": 5,
   "id": "037682b5",
   "metadata": {},
   "outputs": [
    {
     "name": "stdout",
     "output_type": "stream",
     "text": [
      "['Army_Intelligence', 'AI', 'artificial_intelligence', 'AI', 'three-toed_sloth', 'ai', 'Bradypus_tridactylus', 'artificial_insemination', 'AI']\n"
     ]
    }
   ],
   "source": [
    "synonyms=[]\n",
    "for syn in wordnet.synsets('AI'):\n",
    "   for lemma in syn.lemmas():\n",
    "       synonyms.append(lemma.name())\n",
    "print(synonyms)"
   ]
  },
  {
   "cell_type": "code",
   "execution_count": 6,
   "id": "071346c4",
   "metadata": {},
   "outputs": [
    {
     "name": "stdout",
     "output_type": "stream",
     "text": [
      "['elate']\n"
     ]
    }
   ],
   "source": [
    "from nltk.corpus import wordnet\n",
    "antonyms=[]\n",
    "for syn in wordnet.synsets('depressed'):\n",
    "    for l in syn.lemmas():\n",
    "         if l.antonyms():\n",
    "            antonyms.append(l.antonyms()[0].name())\n",
    "print(antonyms)"
   ]
  },
  {
   "cell_type": "code",
   "execution_count": 11,
   "id": "8a7a4dc3",
   "metadata": {},
   "outputs": [
    {
     "name": "stdout",
     "output_type": "stream",
     "text": [
      "wait\n",
      "wait\n",
      "wait\n",
      "wait\n"
     ]
    }
   ],
   "source": [
    "from nltk.stem import PorterStemmer\n",
    "e_words= [\"wait\", \"waiting\", \"waited\", \"waits\"]\n",
    "ps =PorterStemmer()\n",
    "for w in e_words:\n",
    "    rootWord=ps.stem(w)\n",
    "    print(rootWord)"
   ]
  },
  {
   "cell_type": "code",
   "execution_count": 12,
   "id": "15d8036e",
   "metadata": {},
   "outputs": [
    {
     "name": "stdout",
     "output_type": "stream",
     "text": [
      "hello\n",
      "souro\n",
      ",\n",
      "you\n",
      "have\n",
      "to\n",
      "build\n",
      "a\n",
      "veri\n",
      "good\n",
      "site\n",
      "and\n",
      "i\n",
      "love\n",
      "visit\n",
      "your\n",
      "site\n",
      ".\n"
     ]
    }
   ],
   "source": [
    "from nltk.stem import PorterStemmer\n",
    "from nltk.tokenize import sent_tokenize, word_tokenize\n",
    "sentence=\"Hello Souro, You have to build a very good site and I love visiting your site.\"\n",
    "words = word_tokenize(sentence)\n",
    "ps = PorterStemmer()\n",
    "for w in words:\n",
    "    rootWord=ps.stem(w)\n",
    "    print(rootWord)"
   ]
  },
  {
   "cell_type": "code",
   "execution_count": 14,
   "id": "341ad6d4",
   "metadata": {},
   "outputs": [
    {
     "name": "stdout",
     "output_type": "stream",
     "text": [
      "Stemming for studies is studi\n",
      "Stemming for studying is studi\n",
      "Stemming for cries is cri\n",
      "Stemming for cry is cri\n"
     ]
    }
   ],
   "source": [
    "import nltk\n",
    "from nltk.stem.porter import PorterStemmer\n",
    "porter_stemmer  = PorterStemmer()\n",
    "text = \"studies studying cries cry\"\n",
    "tokenization = nltk.word_tokenize(text)\n",
    "for w in tokenization:\n",
    "    print(\"Stemming for {} is {}\".format(w,porter_stemmer.stem(w)))"
   ]
  },
  {
   "cell_type": "code",
   "execution_count": 15,
   "id": "3b7506ff",
   "metadata": {},
   "outputs": [
    {
     "name": "stdout",
     "output_type": "stream",
     "text": [
      "Lemma for studies is study\n",
      "Lemma for studying is studying\n",
      "Lemma for cries is cry\n",
      "Lemma for cry is cry\n"
     ]
    }
   ],
   "source": [
    "import nltk\n",
    "from nltk.stem import WordNetLemmatizer\n",
    "wordnet_lemmatizer = WordNetLemmatizer()\n",
    "text = \"studies studying cries cry\"\n",
    "tokenization = nltk.word_tokenize(text)\n",
    "for w in tokenization:\n",
    "    print(\"Lemma for {} is {}\".format(w, wordnet_lemmatizer.lemmatize(w)))"
   ]
  },
  {
   "cell_type": "code",
   "execution_count": 16,
   "id": "9e34b9ad",
   "metadata": {},
   "outputs": [
    {
     "name": "stdout",
     "output_type": "stream",
     "text": [
      "['Today', 'great', 'day', '.', 'It', 'even', 'better', 'yesterday', '.', 'And', 'yesterday', 'best', 'day', 'ever', '!']\n"
     ]
    }
   ],
   "source": [
    "from nltk.corpus import stopwords\n",
    "text=\"Today is a great day. It is even better than yesterday. And yesterday was the best day ever!\"\n",
    "stopwords=set(stopwords.words('english'))\n",
    "from nltk.tokenize import word_tokenize\n",
    "words=word_tokenize(text)\n",
    "wordsFiltered=[]\n",
    "for w in words:\n",
    "    if w not in stopwords:\n",
    "         wordsFiltered.append(w)\n",
    "print(wordsFiltered)"
   ]
  },
  {
   "cell_type": "markdown",
   "id": "f7551af3",
   "metadata": {},
   "source": [
    "# numpy"
   ]
  },
  {
   "cell_type": "code",
   "execution_count": 2,
   "id": "a0fa7fb8",
   "metadata": {},
   "outputs": [
    {
     "name": "stdout",
     "output_type": "stream",
     "text": [
      "<class 'numpy.ndarray'>\n",
      "Array with Rank 1: \n",
      " [1 2 3]\n",
      "Array with Rank 2: \n",
      " [[1 2 3]\n",
      " [4 5 6]]\n",
      "\n",
      "Array created using passed tuple:\n",
      " [1 3 2]\n"
     ]
    }
   ],
   "source": [
    "import numpy as np\n",
    " \n",
    "# Creating a rank 1 Array\n",
    "arr = np.array([1, 2, 3])\n",
    "print(type(arr))\n",
    "print(\"Array with Rank 1: \\n\",arr)\n",
    " \n",
    "# Creating a rank 2 Array\n",
    "arr = np.array([[1, 2, 3],\n",
    "                [4, 5, 6]])\n",
    "print(\"Array with Rank 2: \\n\", arr)\n",
    " \n",
    "# Creating an array from tuple\n",
    "arr = np.array((1, 3, 2))\n",
    "print(\"\\nArray created using \"\n",
    "      \"passed tuple:\\n\", arr)"
   ]
  },
  {
   "cell_type": "code",
   "execution_count": 13,
   "id": "5f55189d",
   "metadata": {},
   "outputs": [
    {
     "name": "stdout",
     "output_type": "stream",
     "text": [
      "Initial Array: \n",
      "[[-1.   2.   0.   4. ]\n",
      " [ 4.  -0.5  6.   0. ]\n",
      " [ 2.6  0.   7.   8. ]\n",
      " [ 3.  -7.   4.   2. ]]\n",
      "Array with first 2 rows and alternate columns(0 and 2):\n",
      " [[-1.  0.]\n",
      " [ 4.  6.]]\n",
      "\n",
      "Elements at indices (1, 3), (1, 2), (0, 1), (3, 0):\n",
      " [0. 6. 2. 3.]\n"
     ]
    }
   ],
   "source": [
    "#import numpy as np\n",
    " \n",
    "# Initial Array\n",
    "arr = np.array([[-1, 2, 0, 4],\n",
    "                [4, -0.5, 6, 0],\n",
    "                [2.6, 0, 7, 8],\n",
    "                [3, -7, 4, 2.0]])\n",
    "print(\"Initial Array: \")\n",
    "print(arr)\n",
    " \n",
    "# Printing a range of Array\n",
    "# with the use of slicing method\n",
    "sliced_arr = arr[:2, ::2]\n",
    "print (\"Array with first 2 rows and\"\n",
    "    \" alternate columns(0 and 2):\\n\", sliced_arr)\n",
    " \n",
    "# Printing elements at\n",
    "# specific Indices\n",
    "Index_arr = arr[[1, 1, 0, 3], \n",
    "                [3, 2, 1, 0]]\n",
    "print (\"\\nElements at indices (1, 3), \"\n",
    "    \"(1, 2), (0, 1), (3, 0):\\n\", Index_arr)"
   ]
  },
  {
   "cell_type": "code",
   "execution_count": 14,
   "id": "8d37be60",
   "metadata": {},
   "outputs": [
    {
     "name": "stdout",
     "output_type": "stream",
     "text": [
      "Adding 1 to every element: [[2 3]\n",
      " [4 5]]\n",
      "\n",
      "Subtracting 2 from each element: [[ 2  1]\n",
      " [ 0 -1]]\n",
      "\n",
      "Sum of all array elements:  10\n",
      "\n",
      "Array sum:\n",
      " [[5 5]\n",
      " [5 5]]\n"
     ]
    }
   ],
   "source": [
    "#import numpy as np\n",
    " \n",
    "# Defining Array 1\n",
    "a = np.array([[1, 2],\n",
    "              [3, 4]])\n",
    " \n",
    "# Defining Array 2\n",
    "b = np.array([[4, 3],\n",
    "              [2, 1]])\n",
    "               \n",
    "# Adding 1 to every element\n",
    "print (\"Adding 1 to every element:\", a + 1)\n",
    " \n",
    "# Subtracting 2 from each element\n",
    "print (\"\\nSubtracting 2 from each element:\", b - 2)\n",
    " \n",
    "# sum of array elements\n",
    "# Performing Unary operations\n",
    "print (\"\\nSum of all array \"\n",
    "       \"elements: \", a.sum())\n",
    " \n",
    "# Adding two arrays\n",
    "# Performing Binary operations\n",
    "print (\"\\nArray sum:\\n\", a + b)"
   ]
  },
  {
   "cell_type": "code",
   "execution_count": 15,
   "id": "78526d8f",
   "metadata": {},
   "outputs": [
    {
     "name": "stdout",
     "output_type": "stream",
     "text": [
      "[[4. 7.]\n",
      " [2. 6.]]\n",
      "Addition of Two Arrays: \n",
      "[[ 7. 13.]\n",
      " [ 4. 14.]]\n",
      "\n",
      "Addition of Array elements: \n",
      "19.0\n",
      "\n",
      "Square root of Array1 elements: \n",
      "[[2.         2.64575131]\n",
      " [1.41421356 2.44948974]]\n",
      "\n",
      "Transpose of Array: \n",
      "[[4. 2.]\n",
      " [7. 6.]]\n"
     ]
    }
   ],
   "source": [
    "#import numpy as np\n",
    " \n",
    "# First Array\n",
    "arr1 = np.array([[4, 7], [2, 6]], dtype = np.float64)\n",
    "print(arr1)\n",
    "                  \n",
    "# Second Array\n",
    "arr2 = np.array([[3, 6], [2, 8]], \n",
    "                 dtype = np.float64) \n",
    " \n",
    "# Addition of two Arrays\n",
    "Sum = np.add(arr1, arr2)\n",
    "print(\"Addition of Two Arrays: \")\n",
    "print(Sum)\n",
    " \n",
    "# Addition of all Array elements\n",
    "# using predefined sum method\n",
    "Sum1 = np.sum(arr1)\n",
    "print(\"\\nAddition of Array elements: \")\n",
    "print(Sum1)\n",
    " \n",
    "# Square root of Array\n",
    "Sqrt = np.sqrt(arr1)\n",
    "print(\"\\nSquare root of Array1 elements: \")\n",
    "print(Sqrt)\n",
    " \n",
    "# Transpose of Array\n",
    "# using In-built function 'T'\n",
    "Trans_arr = arr1.T\n",
    "print(\"\\nTranspose of Array: \")\n",
    "print(Trans_arr)"
   ]
  },
  {
   "cell_type": "code",
   "execution_count": 16,
   "id": "9882b166",
   "metadata": {},
   "outputs": [
    {
     "name": "stdout",
     "output_type": "stream",
     "text": [
      "Rank of A: 3\n",
      "\n",
      "Trace of A: 11\n",
      "\n",
      "Determinant of A: -306.0\n",
      "\n",
      "Inverse of A:\n",
      " [[ 0.17647059 -0.00326797 -0.02287582]\n",
      " [ 0.05882353 -0.13071895  0.08496732]\n",
      " [-0.11764706  0.1503268   0.05228758]]\n",
      "\n",
      "Matrix A raised to power 3:\n",
      " [[336 162 228]\n",
      " [406 162 469]\n",
      " [698 702 905]]\n"
     ]
    }
   ],
   "source": [
    "A = np.array([[6, 1, 1],\n",
    "              [4, -2, 5],\n",
    "              [2, 8, 7]])\n",
    "\n",
    "# Rank of a matrix\n",
    "print(\"Rank of A:\", np.linalg.matrix_rank(A))\n",
    "\n",
    "# Trace of matrix A\n",
    "print(\"\\nTrace of A:\", np.trace(A))\n",
    "\n",
    "# Determinant of a matrix\n",
    "print(\"\\nDeterminant of A:\", np.linalg.det(A))\n",
    "\n",
    "# Inverse of matrix A\n",
    "print(\"\\nInverse of A:\\n\", np.linalg.inv(A))\n",
    "\n",
    "print(\"\\nMatrix A raised to power 3:\\n\",\n",
    "           np.linalg.matrix_power(A, 3))"
   ]
  },
  {
   "cell_type": "code",
   "execution_count": 17,
   "id": "f92c338f",
   "metadata": {},
   "outputs": [
    {
     "data": {
      "text/plain": [
       "array([[0., 0., 0., 0.],\n",
       "       [0., 0., 0., 0.],\n",
       "       [0., 0., 0., 0.]])"
      ]
     },
     "execution_count": 17,
     "metadata": {},
     "output_type": "execute_result"
    }
   ],
   "source": [
    "np.zeros((3, 4))"
   ]
  },
  {
   "cell_type": "code",
   "execution_count": 20,
   "id": "8edf7fcf",
   "metadata": {},
   "outputs": [
    {
     "name": "stdout",
     "output_type": "stream",
     "text": [
      "[[1. 1. 1. 1.]\n",
      " [1. 1. 1. 1.]\n",
      " [1. 1. 1. 1.]]\n"
     ]
    }
   ],
   "source": [
    "np_array1 = np.ones((3, 4))\n",
    "print(np_array1)"
   ]
  },
  {
   "cell_type": "code",
   "execution_count": 21,
   "id": "acb07ad4",
   "metadata": {},
   "outputs": [
    {
     "data": {
      "text/plain": [
       "array([3, 4])"
      ]
     },
     "execution_count": 21,
     "metadata": {},
     "output_type": "execute_result"
    }
   ],
   "source": [
    "np.array((3,4))"
   ]
  },
  {
   "cell_type": "code",
   "execution_count": 22,
   "id": "5db05eb2",
   "metadata": {},
   "outputs": [
    {
     "data": {
      "text/plain": [
       "array([10, 15, 20, 25])"
      ]
     },
     "execution_count": 22,
     "metadata": {},
     "output_type": "execute_result"
    }
   ],
   "source": [
    "np.arange(10, 30, 5)"
   ]
  },
  {
   "cell_type": "code",
   "execution_count": 28,
   "id": "6958b5af",
   "metadata": {},
   "outputs": [
    {
     "name": "stdout",
     "output_type": "stream",
     "text": [
      "[ 0  1  2  3  4  5  6  7  8  9 10 11]\n",
      "[[ 0  1  2  3]\n",
      " [ 4  5  6  7]\n",
      " [ 8  9 10 11]]\n",
      "[[ 0  1]\n",
      " [ 2  3]\n",
      " [ 4  5]\n",
      " [ 6  7]\n",
      " [ 8  9]\n",
      " [10 11]]\n",
      "[[ 0  1]\n",
      " [ 2  3]\n",
      " [ 4  5]\n",
      " [ 6  7]\n",
      " [ 8  9]\n",
      " [10 11]]\n"
     ]
    }
   ],
   "source": [
    "b = np.arange(12)\n",
    "print(b)\n",
    "b = b.reshape(3, 4)\n",
    "print(b)\n",
    "b= b.reshape(6,2)\n",
    "print(b)\n",
    "b = np.arange(12).reshape(6, 2)\n",
    "print(b)"
   ]
  },
  {
   "cell_type": "markdown",
   "id": "b8387e56",
   "metadata": {},
   "source": [
    "### axis = 0, rows, vertically sorted\n",
    "### axis = 1, columns, horizontally sorted"
   ]
  },
  {
   "cell_type": "code",
   "execution_count": 27,
   "id": "56f06d36",
   "metadata": {},
   "outputs": [
    {
     "name": "stdout",
     "output_type": "stream",
     "text": [
      "[[12 15  6]\n",
      " [12  1  4]\n",
      " [ 7  3  2]\n",
      " [ 3  6  9]]\n",
      "Along first axis : \n",
      " [[ 6 12 15]\n",
      " [ 1  4 12]\n",
      " [ 2  3  7]\n",
      " [ 3  6  9]]\n",
      "\n",
      "Along first axis : \n",
      " [[10 15]\n",
      " [ 1 12]]\n",
      "\n",
      "Along none axis : \n",
      " [ 1 10 12 15]\n"
     ]
    }
   ],
   "source": [
    "import numpy as np\n",
    " \n",
    "# sort along the first axis\n",
    "a = np.array([[12, 15, 6], [12, 1, 4], [7,3, 2], [3,6,9]])\n",
    "print(a)\n",
    "arr1 = np.sort(a, axis = 0)        \n",
    "print (\"Along first axis : \\n\", arr1)        \n",
    " \n",
    " \n",
    "# sort along the last axis\n",
    "a = np.array([[15, 10], [12, 1]])\n",
    "arr2 = np.sort(a, axis = 1)        \n",
    "print (\"\\nAlong first axis : \\n\", arr2)\n",
    " \n",
    " \n",
    "a = np.array([[12, 15], [10, 1]])\n",
    "arr1 = np.sort(a, axis = None)        \n",
    "print (\"\\nAlong none axis : \\n\", arr1)"
   ]
  },
  {
   "cell_type": "code",
   "execution_count": 29,
   "id": "e132073f",
   "metadata": {},
   "outputs": [
    {
     "name": "stdout",
     "output_type": "stream",
     "text": [
      "Original array:\n",
      " [9 3 1 7 4 3 6]\n",
      "Sorted indices of original array-> [2 1 5 4 6 3 0]\n",
      "Sorted array-> [1 3 3 4 6 7 9]\n"
     ]
    }
   ],
   "source": [
    "#import numpy as np\n",
    " \n",
    "# Numpy array created\n",
    "a = np.array([9, 3, 1, 7, 4, 3, 6])\n",
    " \n",
    "# unsorted array print\n",
    "print('Original array:\\n', a)\n",
    " \n",
    "# Sort array indices\n",
    "b = np.argsort(a)\n",
    "print('Sorted indices of original array->', b)\n",
    " \n",
    "# To get sorted array using sorted indices\n",
    "# c is temp array created of same len as of b\n",
    "c = np.zeros(len(b), dtype = int)\n",
    "for i in range(0, len(b)):\n",
    "    c[i]= a[b[i]]\n",
    "print('Sorted array->', c)"
   ]
  },
  {
   "cell_type": "code",
   "execution_count": 2,
   "id": "aaea7e79",
   "metadata": {},
   "outputs": [
    {
     "name": "stdout",
     "output_type": "stream",
     "text": [
      "column a, column b\n",
      "9   4\n",
      "3   6\n",
      "1   9\n",
      "3   2\n",
      "4   1\n",
      "3   8\n",
      "6   7\n",
      "Sorted indices-> [2 3 1 5 4 6 0]\n"
     ]
    }
   ],
   "source": [
    "import numpy as np\n",
    " \n",
    "# Numpy array created\n",
    "# First column\n",
    "a = np.array([9, 3, 1, 3, 4, 3, 6])\n",
    " \n",
    "# Second column \n",
    "b = np.array([4, 6, 9, 2, 1, 8, 7]) \n",
    "print('column a, column b')\n",
    "for (i, j) in zip(a, b):\n",
    "    print(i, ' ', j)\n",
    " \n",
    "# Sort by a then by b\n",
    "ind = np.lexsort((b, a)) \n",
    "print('Sorted indices->', ind)"
   ]
  },
  {
   "cell_type": "code",
   "execution_count": 3,
   "id": "c6ad5c0e",
   "metadata": {},
   "outputs": [
    {
     "name": "stdout",
     "output_type": "stream",
     "text": [
      "INPUT ARRAY : \n",
      " [[ 0  1  2  3]\n",
      " [ 4  5  6  7]\n",
      " [ 8  9 10 11]]\n",
      "\n",
      "Max element :  11\n",
      "('\\nIndices of Max element : ', array([2, 2, 2, 2]))\n",
      "('\\nIndices of Max element : ', array([3, 3, 3]))\n"
     ]
    }
   ],
   "source": [
    "#import numpy as np \n",
    " \n",
    "# Working on 2D array\n",
    "array = np.arange(12).reshape(3, 4)\n",
    "print(\"INPUT ARRAY : \\n\", array)\n",
    " \n",
    "# No axis mentioned, so works on entire array\n",
    "print(\"\\nMax element : \", np.argmax(array))\n",
    " \n",
    "# returning Indices of the max element\n",
    "# as per the indices\n",
    "print((\"\\nIndices of Max element : \"\n",
    "      , np.argmax(array, axis=0)))\n",
    "print((\"\\nIndices of Max element : \"\n",
    "      , np.argmax(array, axis=1)))"
   ]
  },
  {
   "cell_type": "markdown",
   "id": "013c1fd1",
   "metadata": {},
   "source": [
    "# Panda"
   ]
  },
  {
   "cell_type": "code",
   "execution_count": 4,
   "id": "b2e02fdf",
   "metadata": {},
   "outputs": [
    {
     "name": "stdout",
     "output_type": "stream",
     "text": [
      "Series([], dtype: float64)\n"
     ]
    },
    {
     "name": "stderr",
     "output_type": "stream",
     "text": [
      "/home/souro/AI-ML-Training_Mindmajix/venv_aimltrn/lib/python3.6/site-packages/ipykernel_launcher.py:6: DeprecationWarning: The default dtype for empty Series will be 'object' instead of 'float64' in a future version. Specify a dtype explicitly to silence this warning.\n",
      "  \n"
     ]
    }
   ],
   "source": [
    "import pandas as pd\n",
    "import numpy as np\n",
    " \n",
    " \n",
    "# Creating empty series\n",
    "ser = pd.Series()\n",
    "   \n",
    "print(ser)"
   ]
  },
  {
   "cell_type": "code",
   "execution_count": 5,
   "id": "c71f954d",
   "metadata": {},
   "outputs": [
    {
     "name": "stdout",
     "output_type": "stream",
     "text": [
      "0    s\n",
      "1    o\n",
      "2    u\n",
      "3    r\n",
      "4    o\n",
      "dtype: object\n"
     ]
    }
   ],
   "source": [
    "# simple array\n",
    "data = np.array(['s', 'o', 'u', 'r', 'o'])\n",
    "   \n",
    "ser = pd.Series(data)\n",
    "print(ser)"
   ]
  },
  {
   "cell_type": "code",
   "execution_count": 11,
   "id": "60ac404e",
   "metadata": {},
   "outputs": [
    {
     "name": "stdout",
     "output_type": "stream",
     "text": [
      "100    a\n",
      "101    b\n",
      "102    c\n",
      "103    d\n",
      "dtype: object\n",
      "102    c\n",
      "103    d\n",
      "dtype: object\n"
     ]
    }
   ],
   "source": [
    "data = np.array(['a','b','c','d'])\n",
    "s = pd.Series(data,index=[100,101,102,103])\n",
    "print(s)\n",
    "print(s[[102,103]])"
   ]
  },
  {
   "cell_type": "code",
   "execution_count": 12,
   "id": "c370b999",
   "metadata": {},
   "outputs": [
    {
     "name": "stdout",
     "output_type": "stream",
     "text": [
      "a    0.0\n",
      "b    1.0\n",
      "c    2.0\n",
      "dtype: float64\n"
     ]
    }
   ],
   "source": [
    "data = {'a' : 0., 'b' : 1., 'c' : 2.}\n",
    "s = pd.Series(data)\n",
    "print(s)"
   ]
  },
  {
   "cell_type": "code",
   "execution_count": 13,
   "id": "f4416fc6",
   "metadata": {},
   "outputs": [
    {
     "name": "stdout",
     "output_type": "stream",
     "text": [
      "Empty DataFrame\n",
      "Columns: []\n",
      "Index: []\n",
      "           0\n",
      "0      Souro\n",
      "1         AI\n",
      "2         ML\n",
      "3  Mindmajix\n",
      "4   training\n"
     ]
    }
   ],
   "source": [
    "import pandas as pd\n",
    "   \n",
    "# Calling DataFrame constructor\n",
    "df = pd.DataFrame()\n",
    "print(df)\n",
    " \n",
    "# list of strings\n",
    "lst = ['Souro', 'AI', 'ML', 'Mindmajix', \n",
    "            'training']\n",
    "   \n",
    "# Calling DataFrame constructor on list\n",
    "df = pd.DataFrame(lst)\n",
    "print(df)"
   ]
  },
  {
   "cell_type": "code",
   "execution_count": 14,
   "id": "afd71d20",
   "metadata": {},
   "outputs": [
    {
     "name": "stdout",
     "output_type": "stream",
     "text": [
      "     Name  Age\n",
      "0    Alex   10\n",
      "1     Bob   12\n",
      "2  Clarke   13\n"
     ]
    }
   ],
   "source": [
    "data = [['Alex',10],['Bob',12],['Clarke',13]]\n",
    "df = pd.DataFrame(data,columns=['Name','Age'])\n",
    "print(df)"
   ]
  },
  {
   "cell_type": "code",
   "execution_count": 15,
   "id": "f0eba8db",
   "metadata": {},
   "outputs": [
    {
     "name": "stdout",
     "output_type": "stream",
     "text": [
      "   a   b     c\n",
      "0  1   2   NaN\n",
      "1  5  10  20.0\n"
     ]
    }
   ],
   "source": [
    "data = [{'a': 1, 'b': 2},{'a': 5, 'b': 10, 'c': 20}]\n",
    "df = pd.DataFrame(data)\n",
    "print(df)"
   ]
  },
  {
   "cell_type": "code",
   "execution_count": 16,
   "id": "68727d82",
   "metadata": {},
   "outputs": [
    {
     "name": "stdout",
     "output_type": "stream",
     "text": [
      "   one  two\n",
      "a  1.0    1\n",
      "b  2.0    2\n",
      "c  3.0    3\n",
      "d  NaN    4\n",
      "a    1.0\n",
      "b    2.0\n",
      "c    3.0\n",
      "d    NaN\n",
      "Name: one, dtype: float64\n",
      "   one  two\n",
      "a  1.0    1\n",
      "b  2.0    2\n",
      "c  3.0    3\n",
      "d  NaN    4\n"
     ]
    }
   ],
   "source": [
    "d = {'one' : pd.Series([1, 2, 3], index=['a', 'b', 'c']),\n",
    "   'two' : pd.Series([1, 2, 3, 4], index=['a', 'b', 'c', 'd'])}\n",
    "\n",
    "df = pd.DataFrame(d)\n",
    "print(df)\n",
    "print(df['one'])\n",
    "print(df[['one','two']])"
   ]
  },
  {
   "cell_type": "code",
   "execution_count": 17,
   "id": "82e8a85b",
   "metadata": {},
   "outputs": [
    {
     "name": "stdout",
     "output_type": "stream",
     "text": [
      "Adding a new column by passing as Series:\n",
      "   one  two  three\n",
      "a  1.0    1   10.0\n",
      "b  2.0    2   20.0\n",
      "c  3.0    3   30.0\n",
      "d  NaN    4    NaN\n",
      "Adding a new column using the existing columns in DataFrame:\n",
      "   one  two  three  four\n",
      "a  1.0    1   10.0  11.0\n",
      "b  2.0    2   20.0  22.0\n",
      "c  3.0    3   30.0  33.0\n",
      "d  NaN    4    NaN   NaN\n"
     ]
    }
   ],
   "source": [
    "import pandas as pd\n",
    "\n",
    "d = {'one' : pd.Series([1, 2, 3], index=['a', 'b', 'c']),\n",
    "   'two' : pd.Series([1, 2, 3, 4], index=['a', 'b', 'c', 'd'])}\n",
    "\n",
    "df = pd.DataFrame(d)\n",
    "\n",
    "# Adding a new column to an existing DataFrame object with column label by passing new series\n",
    "\n",
    "print (\"Adding a new column by passing as Series:\")\n",
    "df['three']=pd.Series([10,20,30],index=['a','b','c'])\n",
    "print(df)\n",
    "\n",
    "print (\"Adding a new column using the existing columns in DataFrame:\")\n",
    "df['four']=df['one']+df['three']\n",
    "\n",
    "print(df)"
   ]
  },
  {
   "cell_type": "code",
   "execution_count": 19,
   "id": "f650cabc",
   "metadata": {},
   "outputs": [
    {
     "name": "stdout",
     "output_type": "stream",
     "text": [
      "Our dataframe is:\n",
      "   one  two  three\n",
      "a  1.0    1   10.0\n",
      "b  2.0    2   20.0\n",
      "c  3.0    3   30.0\n",
      "d  NaN    4    NaN\n",
      "Deleting the first column using DEL function:\n",
      "   two  three\n",
      "a    1   10.0\n",
      "b    2   20.0\n",
      "c    3   30.0\n",
      "d    4    NaN\n",
      "Deleting another column using POP function:\n",
      "a    1\n",
      "b    2\n",
      "c    3\n",
      "d    4\n",
      "Name: two, dtype: int64\n",
      "   three\n",
      "a   10.0\n",
      "b   20.0\n",
      "c   30.0\n",
      "d    NaN\n"
     ]
    }
   ],
   "source": [
    "import pandas as pd\n",
    "\n",
    "d = {'one' : pd.Series([1, 2, 3], index=['a', 'b', 'c']), \n",
    "   'two' : pd.Series([1, 2, 3, 4], index=['a', 'b', 'c', 'd']), \n",
    "   'three' : pd.Series([10,20,30], index=['a','b','c'])}\n",
    "\n",
    "df = pd.DataFrame(d)\n",
    "print (\"Our dataframe is:\")\n",
    "print(df)\n",
    "\n",
    "# using del function\n",
    "print (\"Deleting the first column using DEL function:\")\n",
    "del df['one']\n",
    "print(df)\n",
    "\n",
    "# using pop function\n",
    "print (\"Deleting another column using POP function:\")\n",
    "r = df.pop('two')\n",
    "print(r)\n",
    "print(df)"
   ]
  },
  {
   "cell_type": "code",
   "execution_count": 20,
   "id": "7c7e4d1c",
   "metadata": {},
   "outputs": [
    {
     "name": "stdout",
     "output_type": "stream",
     "text": [
      "   one  two\n",
      "a  1.0    1\n",
      "b  2.0    2\n",
      "c  3.0    3\n",
      "d  NaN    4\n",
      "\n",
      "\n",
      "a    1.0\n",
      "b    2.0\n",
      "c    3.0\n",
      "d    NaN\n",
      "Name: one, dtype: float64\n",
      "\n",
      "\n",
      "one    1.0\n",
      "two    1.0\n",
      "Name: a, dtype: float64\n",
      "\n",
      "\n",
      "one    2.0\n",
      "two    2.0\n",
      "Name: b, dtype: float64\n"
     ]
    }
   ],
   "source": [
    "import pandas as pd\n",
    "\n",
    "d = {'one' : pd.Series([1, 2, 3], index=['a', 'b', 'c']), \n",
    "   'two' : pd.Series([1, 2, 3, 4], index=['a', 'b', 'c', 'd'])}\n",
    "\n",
    "df = pd.DataFrame(d)\n",
    "print(df)\n",
    "print('\\n')\n",
    "print(df['one'])\n",
    "print('\\n')\n",
    "print(df.loc['a'])\n",
    "print('\\n')\n",
    "print(df.iloc[1]) #df.loc['b']"
   ]
  },
  {
   "cell_type": "code",
   "execution_count": 22,
   "id": "aa325635",
   "metadata": {},
   "outputs": [
    {
     "name": "stdout",
     "output_type": "stream",
     "text": [
      "   one  two\n",
      "a  1.0    1\n",
      "b  2.0    2\n",
      "c  3.0    3\n",
      "d  NaN    4\n",
      "   one  two\n",
      "c  3.0    3\n",
      "d  NaN    4\n"
     ]
    }
   ],
   "source": [
    "d = {'one' : pd.Series([1, 2, 3], index=['a', 'b', 'c']), \n",
    "   'two' : pd.Series([1, 2, 3, 4], index=['a', 'b', 'c', 'd'])}\n",
    "\n",
    "df = pd.DataFrame(d)\n",
    "print(df)\n",
    "print(df[2:4])"
   ]
  },
  {
   "cell_type": "code",
   "execution_count": 25,
   "id": "679e0bac",
   "metadata": {},
   "outputs": [
    {
     "name": "stdout",
     "output_type": "stream",
     "text": [
      "   a  b\n",
      "0  1  2\n",
      "1  3  4\n",
      "\n",
      "\n",
      "   a  b\n",
      "0  5  6\n",
      "1  7  8\n",
      "\n",
      "\n",
      "   a  b\n",
      "0  1  2\n",
      "1  3  4\n",
      "0  5  6\n",
      "1  7  8\n"
     ]
    }
   ],
   "source": [
    "import pandas as pd\n",
    "\n",
    "df = pd.DataFrame([[1, 2], [3, 4]], columns = ['a','b'])\n",
    "df2 = pd.DataFrame([[5, 6], [7, 8]], columns = ['a','b'])\n",
    "print(df)\n",
    "print('\\n')\n",
    "print(df2)\n",
    "print('\\n')\n",
    "df = df.append(df2)\n",
    "print(df)"
   ]
  },
  {
   "cell_type": "code",
   "execution_count": 27,
   "id": "f0598b27",
   "metadata": {},
   "outputs": [
    {
     "name": "stdout",
     "output_type": "stream",
     "text": [
      "   a  b\n",
      "0  1  2\n",
      "1  3  4\n",
      "\n",
      "\n",
      "a\n",
      "0    1\n",
      "1    3\n",
      "Name: a, dtype: int64\n",
      "b\n",
      "0    2\n",
      "1    4\n",
      "Name: b, dtype: int64\n",
      "\n",
      "\n",
      "a 0    1\n",
      "1    3\n",
      "Name: a, dtype: int64\n",
      "b 0    2\n",
      "1    4\n",
      "Name: b, dtype: int64\n",
      "\n",
      "\n",
      "0 a    1\n",
      "b    2\n",
      "Name: 0, dtype: int64\n",
      "1 a    3\n",
      "b    4\n",
      "Name: 1, dtype: int64\n"
     ]
    }
   ],
   "source": [
    "import pandas as pd\n",
    "\n",
    "df = pd.DataFrame([[1, 2], [3, 4]], columns = ['a','b'])\n",
    "print(df)\n",
    "print('\\n')\n",
    "for col in df:\n",
    "    print(col)\n",
    "    print(df[col])\n",
    "# for i in range(2):\n",
    "#     print(df.iloc[i])\n",
    "print('\\n')\n",
    "for key,value in df.iteritems():\n",
    "    print(key,value)\n",
    "print('\\n')\n",
    "for key,value in df.iterrows():\n",
    "    print(key,value)"
   ]
  },
  {
   "cell_type": "code",
   "execution_count": 28,
   "id": "173e9ed4",
   "metadata": {},
   "outputs": [
    {
     "name": "stdout",
     "output_type": "stream",
     "text": [
      "       col2      col1\n",
      "1 -0.148888  0.793511\n",
      "4 -1.031439  0.620164\n",
      "6 -0.119457  1.123385\n",
      "2 -1.799598 -0.043129\n",
      "3 -1.806839  0.153202\n",
      "5 -0.121704  0.614235\n",
      "9  0.982071 -0.139774\n",
      "8 -0.544882  0.659896\n",
      "0 -1.197939  0.957202\n",
      "7  1.555033  1.417750\n",
      "\n",
      "\n",
      "       col2      col1\n",
      "0 -1.197939  0.957202\n",
      "1 -0.148888  0.793511\n",
      "2 -1.799598 -0.043129\n",
      "3 -1.806839  0.153202\n",
      "4 -1.031439  0.620164\n",
      "5 -0.121704  0.614235\n",
      "6 -0.119457  1.123385\n",
      "7  1.555033  1.417750\n",
      "8 -0.544882  0.659896\n",
      "9  0.982071 -0.139774\n",
      "\n",
      "\n",
      "       col1      col2\n",
      "1  0.793511 -0.148888\n",
      "4  0.620164 -1.031439\n",
      "6  1.123385 -0.119457\n",
      "2 -0.043129 -1.799598\n",
      "3  0.153202 -1.806839\n",
      "5  0.614235 -0.121704\n",
      "9 -0.139774  0.982071\n",
      "8  0.659896 -0.544882\n",
      "0  0.957202 -1.197939\n",
      "7  1.417750  1.555033\n",
      "\n",
      "\n",
      "       col2      col1\n",
      "3 -1.806839  0.153202\n",
      "2 -1.799598 -0.043129\n",
      "0 -1.197939  0.957202\n",
      "4 -1.031439  0.620164\n",
      "8 -0.544882  0.659896\n",
      "1 -0.148888  0.793511\n",
      "5 -0.121704  0.614235\n",
      "6 -0.119457  1.123385\n",
      "9  0.982071 -0.139774\n",
      "7  1.555033  1.417750\n"
     ]
    }
   ],
   "source": [
    "import pandas as pd\n",
    "import numpy as np\n",
    "\n",
    "unsorted_df = pd.DataFrame(np.random.randn(10,2),index=[1,4,6,2,3,5,9,8,0,7],columns = ['col2','col1'])\n",
    "print(unsorted_df)\n",
    "print('\\n')\n",
    "\n",
    "sorted_df=unsorted_df.sort_index()\n",
    "print(sorted_df)\n",
    "print('\\n')\n",
    "\n",
    "sorted_df=unsorted_df.sort_index(axis=1)\n",
    "print(sorted_df)\n",
    "print('\\n')\n",
    "\n",
    "sorted_df=unsorted_df.sort_values(by='col2')\n",
    "print(sorted_df)"
   ]
  },
  {
   "cell_type": "code",
   "execution_count": 29,
   "id": "78b59202",
   "metadata": {},
   "outputs": [
    {
     "name": "stdout",
     "output_type": "stream",
     "text": [
      "                   A         B         C         D\n",
      "2000-01-01 -1.143547  0.229917 -0.627381 -0.716680\n",
      "2000-01-02 -2.954838 -1.050054 -0.885908  1.374761\n",
      "2000-01-03 -0.522344  0.763079 -1.262763 -0.533557\n",
      "2000-01-04  0.622489  0.649360 -0.972474  0.465991\n",
      "2000-01-05 -0.315015 -0.927705 -0.551808 -0.767031\n",
      "2000-01-06  0.421932  0.763650 -0.555624 -1.343880\n",
      "2000-01-07  0.601464  0.599417  0.557881 -1.035022\n",
      "2000-01-08 -2.081301  0.905248 -0.409370 -0.968295\n",
      "2000-01-09 -1.340446  1.701372  0.055612  0.351965\n",
      "2000-01-10 -2.135463  0.477565  1.153973 -0.472993\n",
      "Rolling [window=3,min_periods=1,center=False,axis=0]\n",
      "                   A         B         C         D\n",
      "2000-01-01 -1.143547  0.229917 -0.627381 -0.716680\n",
      "2000-01-02 -4.098385 -0.820138 -1.513289  0.658082\n",
      "2000-01-03 -4.620729 -0.057058 -2.776051  0.124525\n",
      "2000-01-04 -2.854693  0.362385 -3.121144  1.307195\n",
      "2000-01-05 -0.214871  0.484735 -2.787044 -0.834597\n",
      "2000-01-06  0.729405  0.485305 -2.079906 -1.644920\n",
      "2000-01-07  0.708380  0.435361 -0.549551 -3.145932\n",
      "2000-01-08 -1.057906  2.268314 -0.407114 -3.347196\n",
      "2000-01-09 -2.820284  3.206036  0.204122 -1.651352\n",
      "2000-01-10 -5.557211  3.084185  0.800214 -1.089323\n"
     ]
    }
   ],
   "source": [
    "import pandas as pd\n",
    "import numpy as np\n",
    "\n",
    "df = pd.DataFrame(np.random.randn(10, 4),\n",
    "   index = pd.date_range('1/1/2000', periods=10),\n",
    "   columns = ['A', 'B', 'C', 'D'])\n",
    "\n",
    "print(df)\n",
    "r = df.rolling(window=3,min_periods=1)\n",
    "print(r)\n",
    "print(r.aggregate(np.sum))"
   ]
  },
  {
   "cell_type": "code",
   "execution_count": 30,
   "id": "d273fc89",
   "metadata": {},
   "outputs": [
    {
     "name": "stdout",
     "output_type": "stream",
     "text": [
      "      Team  Rank  Year  Points\n",
      "0   Riders     1  2014     876\n",
      "1   Riders     2  2015     789\n",
      "2   Devils     2  2014     863\n",
      "3   Devils     3  2015     673\n",
      "4    Kings     3  2014     741\n",
      "5    kings     4  2015     812\n",
      "6    Kings     1  2016     756\n",
      "7    Kings     1  2017     788\n",
      "8   Riders     2  2016     694\n",
      "9   Royals     4  2014     701\n",
      "10  Royals     1  2015     804\n",
      "11  Riders     2  2017     690\n",
      "\n",
      "\n",
      "{'Devils': [2, 3], 'Kings': [4, 6, 7], 'Riders': [0, 1, 8, 11], 'Royals': [9, 10], 'kings': [5]}\n"
     ]
    }
   ],
   "source": [
    "import pandas as pd\n",
    "\n",
    "ipl_data = {'Team': ['Riders', 'Riders', 'Devils', 'Devils', 'Kings',\n",
    "   'kings', 'Kings', 'Kings', 'Riders', 'Royals', 'Royals', 'Riders'],\n",
    "   'Rank': [1, 2, 2, 3, 3,4 ,1 ,1,2 , 4,1,2],\n",
    "   'Year': [2014,2015,2014,2015,2014,2015,2016,2017,2016,2014,2015,2017],\n",
    "   'Points':[876,789,863,673,741,812,756,788,694,701,804,690]}\n",
    "df = pd.DataFrame(ipl_data)\n",
    "print(df)\n",
    "print('\\n')\n",
    "print(df.groupby('Team').groups)"
   ]
  },
  {
   "cell_type": "code",
   "execution_count": 31,
   "id": "caee7f58",
   "metadata": {},
   "outputs": [
    {
     "name": "stdout",
     "output_type": "stream",
     "text": [
      "   id    Name subject_id\n",
      "0   1    Alex       sub1\n",
      "1   2     Amy       sub2\n",
      "2   3   Allen       sub4\n",
      "3   4   Alice       sub6\n",
      "4   5  Ayoung       sub5\n",
      "\n",
      "\n",
      "   id   Name subject_id\n",
      "0   1  Billy       sub2\n",
      "1   2  Brian       sub4\n",
      "2   3   Bran       sub3\n",
      "3   4  Bryce       sub6\n",
      "4   5  Betty       sub5\n",
      "\n",
      "\n",
      "   id  Name_x subject_id_x Name_y subject_id_y\n",
      "0   1    Alex         sub1  Billy         sub2\n",
      "1   2     Amy         sub2  Brian         sub4\n",
      "2   3   Allen         sub4   Bran         sub3\n",
      "3   4   Alice         sub6  Bryce         sub6\n",
      "4   5  Ayoung         sub5  Betty         sub5\n"
     ]
    }
   ],
   "source": [
    "import pandas as pd\n",
    "left = pd.DataFrame({\n",
    "   'id':[1,2,3,4,5],\n",
    "   'Name': ['Alex', 'Amy', 'Allen', 'Alice', 'Ayoung'],\n",
    "   'subject_id':['sub1','sub2','sub4','sub6','sub5']})\n",
    "right = pd.DataFrame({\n",
    "\t'id':[1,2,3,4,5],\n",
    "   'Name': ['Billy', 'Brian', 'Bran', 'Bryce', 'Betty'],\n",
    "   'subject_id':['sub2','sub4','sub3','sub6','sub5']})\n",
    "print(left)\n",
    "print('\\n')\n",
    "print(right)\n",
    "print('\\n')\n",
    "print(pd.merge(left,right,on='id'))"
   ]
  },
  {
   "cell_type": "code",
   "execution_count": 33,
   "id": "3a2057b1",
   "metadata": {},
   "outputs": [
    {
     "name": "stdout",
     "output_type": "stream",
     "text": [
      "\n",
      "\n",
      "        one       two     three\n",
      "a -0.943503 -1.300853 -0.159093\n",
      "c  0.384668  0.209866 -1.020106\n",
      "e -0.431223 -0.004970 -1.061536\n",
      "f  0.916667 -0.335809  1.446750\n",
      "h -1.165610 -1.845074 -0.943374\n",
      "\n",
      "\n",
      "        one       two     three\n",
      "a -0.943503 -1.300853 -0.159093\n",
      "b       NaN       NaN       NaN\n",
      "c  0.384668  0.209866 -1.020106\n",
      "d       NaN       NaN       NaN\n",
      "e -0.431223 -0.004970 -1.061536\n",
      "f  0.916667 -0.335809  1.446750\n",
      "g       NaN       NaN       NaN\n",
      "h -1.165610 -1.845074 -0.943374\n",
      "\n",
      "\n",
      "a    False\n",
      "b     True\n",
      "c    False\n",
      "d     True\n",
      "e    False\n",
      "f    False\n",
      "g     True\n",
      "h    False\n",
      "Name: one, dtype: bool\n"
     ]
    }
   ],
   "source": [
    "import pandas as pd\n",
    "import numpy as np\n",
    " \n",
    "df = pd.DataFrame(np.random.randn(5, 3), index=['a', 'c', 'e', 'f',\n",
    "'h'],columns=['one', 'two', 'three'])\n",
    "print('\\n')\n",
    "print(df)\n",
    "df = df.reindex(['a', 'b', 'c', 'd', 'e', 'f', 'g', 'h'])\n",
    "print('\\n')\n",
    "print(df)\n",
    "print('\\n')\n",
    "print(df['one'].isnull())"
   ]
  },
  {
   "cell_type": "markdown",
   "id": "de8e983b",
   "metadata": {},
   "source": [
    "# scipy"
   ]
  },
  {
   "cell_type": "code",
   "execution_count": 5,
   "id": "249038e1",
   "metadata": {},
   "outputs": [
    {
     "data": {
      "text/plain": [
       "3.0"
      ]
     },
     "execution_count": 5,
     "metadata": {},
     "output_type": "execute_result"
    }
   ],
   "source": [
    "import numpy as np\n",
    "A = np.array([[1,2,3],[4,5,6],[7,8,8]])\n",
    "# importing linalg function from scipy\n",
    "from scipy import linalg\n",
    "  \n",
    "# Compute the determinant of a matrix\n",
    "linalg.det(A)"
   ]
  },
  {
   "cell_type": "code",
   "execution_count": 6,
   "id": "51ca7561",
   "metadata": {},
   "outputs": [
    {
     "name": "stdout",
     "output_type": "stream",
     "text": [
      "[[0. 1. 0.]\n",
      " [0. 0. 1.]\n",
      " [1. 0. 0.]]\n",
      "[[1.         0.         0.        ]\n",
      " [0.14285714 1.         0.        ]\n",
      " [0.57142857 0.5        1.        ]]\n",
      "[[7.         8.         8.        ]\n",
      " [0.         0.85714286 1.85714286]\n",
      " [0.         0.         0.5       ]]\n",
      "[[7. 8. 8.]\n",
      " [1. 2. 3.]\n",
      " [4. 5. 6.]]\n"
     ]
    }
   ],
   "source": [
    "P, L, U = linalg.lu(A)\n",
    "print(P)\n",
    "print(L)\n",
    "print(U)\n",
    "# print LU decomposition\n",
    "print(np.dot(L,U))"
   ]
  },
  {
   "cell_type": "code",
   "execution_count": 7,
   "id": "9c03eab0",
   "metadata": {},
   "outputs": [
    {
     "name": "stdout",
     "output_type": "stream",
     "text": [
      "[15.55528261+0.j -1.41940876+0.j -0.13587385+0.j]\n",
      "[[-0.24043423 -0.67468642  0.51853459]\n",
      " [-0.54694322 -0.23391616 -0.78895962]\n",
      " [-0.80190056  0.70005819  0.32964312]]\n"
     ]
    }
   ],
   "source": [
    "eigen_values, eigen_vectors = linalg.eig(A)\n",
    "print(eigen_values)\n",
    "print(eigen_vectors)"
   ]
  },
  {
   "cell_type": "code",
   "execution_count": 8,
   "id": "95955fc0",
   "metadata": {},
   "outputs": [
    {
     "name": "stdout",
     "output_type": "stream",
     "text": [
      "[[2]\n",
      " [3]\n",
      " [5]]\n",
      "[[-2.33333333]\n",
      " [ 3.66666667]\n",
      " [-1.        ]]\n"
     ]
    }
   ],
   "source": [
    "v = np.array([[2],[3],[5]])\n",
    "print(v)\n",
    "s = linalg.solve(A,v)\n",
    "print(s)"
   ]
  },
  {
   "cell_type": "code",
   "execution_count": null,
   "id": "48aa20b8",
   "metadata": {},
   "outputs": [],
   "source": [
    "from scipy import sparse\n",
    "# Row-based linked list sparse matrix\n",
    "A = sparse.lil_matrix((1000, 1000))\n",
    "print(A)\n",
    "  \n",
    "A[0,:100] = np.random.rand(100)\n",
    "A[1,100:200] = A[0,:100]\n",
    "A.setdiag(np.random.rand(1000))\n",
    "print(A)"
   ]
  },
  {
   "cell_type": "code",
   "execution_count": 9,
   "id": "64960b04",
   "metadata": {},
   "outputs": [
    {
     "name": "stdout",
     "output_type": "stream",
     "text": [
      "(0.7468241328124271, 8.291413475940725e-15)\n"
     ]
    }
   ],
   "source": [
    "import scipy.integrate\n",
    "f= lambda x:np.exp(-x**2)\n",
    "# print results\n",
    "i = scipy.integrate.quad(f, 0, 1)\n",
    "print(i)"
   ]
  },
  {
   "cell_type": "code",
   "execution_count": 10,
   "id": "ab9a8a6e",
   "metadata": {},
   "outputs": [
    {
     "name": "stdout",
     "output_type": "stream",
     "text": [
      "(0.6666666666666667, 7.401486830834377e-15)\n"
     ]
    }
   ],
   "source": [
    "from scipy import integrate\n",
    "f = lambda y, x: x*y**2\n",
    "i = integrate.dblquad(f, 0, 2, lambda x: 0, lambda x: 1)\n",
    "# print the results\n",
    "print(i)"
   ]
  },
  {
   "cell_type": "markdown",
   "id": "27a0138d",
   "metadata": {},
   "source": [
    "# matplot"
   ]
  },
  {
   "cell_type": "code",
   "execution_count": 4,
   "id": "6640e2e3",
   "metadata": {},
   "outputs": [
    {
     "data": {
      "image/png": "[encoded data removed]",
      "text/plain": [
       "<Figure size 432x288 with 1 Axes>"
      ]
     },
     "metadata": {
      "needs_background": "light"
     },
     "output_type": "display_data"
    }
   ],
   "source": [
    "import matplotlib.pyplot as plt\n",
    "# initializing the data\n",
    "x = [10, 20, 30, 40]\n",
    "y = [20, 30, 40, 50]\n",
    "# plotting the data\n",
    "plt.plot(x, y)\n",
    "# Adding the title\n",
    "plt.title(\"Simple Plot\")\n",
    "# Adding the labels\n",
    "plt.ylabel(\"y-axis\")\n",
    "plt.xlabel(\"x-axis\")\n",
    "plt.show()"
   ]
  },
  {
   "cell_type": "code",
   "execution_count": 11,
   "id": "fca6cc77",
   "metadata": {},
   "outputs": [
    {
     "data": {
      "image/png": "[encoded data removed]",
      "text/plain": [
       "<Figure size 360x288 with 1 Axes>"
      ]
     },
     "metadata": {
      "needs_background": "light"
     },
     "output_type": "display_data"
    }
   ],
   "source": [
    "import matplotlib.pyplot as plt \n",
    "from matplotlib.figure import Figure \n",
    "# Creating a new figure with width = 5 inches\n",
    "# and height = 4 inches\n",
    "fig = plt.figure(figsize =(5, 4)) \n",
    "# Creating a new axes for the figure\n",
    "ax = fig.add_axes([1, 1, 1, 1]) \n",
    "# Adding the data to be plotted\n",
    "ax.plot([2, 3, 4, 5, 5, 6, 6], [5, 7, 1, 3, 4, 6 ,8])\n",
    "plt.show()"
   ]
  },
  {
   "cell_type": "code",
   "execution_count": 12,
   "id": "4306b769",
   "metadata": {},
   "outputs": [
    {
     "data": {
      "image/png": "[encoded data removed]",
      "text/plain": [
       "<Figure size 360x288 with 1 Axes>"
      ]
     },
     "metadata": {
      "needs_background": "light"
     },
     "output_type": "display_data"
    }
   ],
   "source": [
    "import matplotlib.pyplot as plt \n",
    "from matplotlib.figure import Figure \n",
    "fig = plt.figure(figsize = (5, 4))\n",
    "# Adding the axes to the figure\n",
    "ax = fig.add_axes([1, 1, 1, 1])\n",
    "# plotting 1st dataset to the figure\n",
    "ax1 = ax.plot([1, 2, 3, 4], [1, 2, 3, 4])\n",
    "# plotting 2nd dataset to the figure\n",
    "ax2 = ax.plot([1, 2, 3, 4], [2, 3, 4, 5])\n",
    "plt.show()"
   ]
  },
  {
   "cell_type": "code",
   "execution_count": 13,
   "id": "30b433d8",
   "metadata": {},
   "outputs": [
    {
     "name": "stderr",
     "output_type": "stream",
     "text": [
      "/home/souro/AI-ML-Training_Mindmajix/venv_aimltrn/lib/python3.6/site-packages/ipykernel_launcher.py:14: UserWarning: FixedFormatter should only be used together with FixedLocator\n",
      "  \n"
     ]
    },
    {
     "data": {
      "image/png": "[encoded data removed]",
      "text/plain": [
       "<Figure size 360x288 with 1 Axes>"
      ]
     },
     "metadata": {
      "needs_background": "light"
     },
     "output_type": "display_data"
    }
   ],
   "source": [
    "import matplotlib.pyplot as plt \n",
    "from matplotlib.figure import Figure \n",
    "x = [3, 1, 3] \n",
    "y = [3, 2, 1] \n",
    "# Creating a new figure with width = 5 inches\n",
    "# and height = 4 inches\n",
    "fig = plt.figure(figsize =(5, 4)) \n",
    "# Creating first axes for the figure\n",
    "ax = fig.add_axes([0.1, 0.1, 0.8, 0.8]) \n",
    "# Adding the data to be plotted\n",
    "ax.plot(x, y)\n",
    "ax.set_xlim(1, 2)\n",
    "ax.set_xticklabels((\n",
    "\"one\", \"two\", \"three\", \"four\", \"five\", \"six\")) \n",
    "plt.show()"
   ]
  },
  {
   "cell_type": "code",
   "execution_count": null,
   "id": "f595c103",
   "metadata": {},
   "outputs": [],
   "source": []
  }
 ],
 "metadata": {
  "kernelspec": {
   "display_name": "Python 3",
   "language": "python",
   "name": "python3"
  },
  "language_info": {
   "codemirror_mode": {
    "name": "ipython",
    "version": 3
   },
   "file_extension": ".py",
   "mimetype": "text/x-python",
   "name": "python",
   "nbconvert_exporter": "python",
   "pygments_lexer": "ipython3",
   "version": "3.6.9"
  }
 },
 "nbformat": 4,
 "nbformat_minor": 5
}
